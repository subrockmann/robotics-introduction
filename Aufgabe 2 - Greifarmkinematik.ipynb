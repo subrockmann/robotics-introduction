{
 "cells": [
  {
   "cell_type": "markdown",
   "metadata": {},
   "source": [
    "## a) Vorwärtskinematik\n"
   ]
  },
  {
   "cell_type": "code",
   "execution_count": 64,
   "metadata": {},
   "outputs": [],
   "source": [
    "import numpy as mp\n",
    "from math import sin, cos, sqrt, atan2\n",
    "from transformations import *"
   ]
  },
  {
   "cell_type": "code",
   "execution_count": 65,
   "metadata": {},
   "outputs": [],
   "source": [
    "# setup of variables\n",
    "x_r = 2\n",
    "y_r = 1\n",
    "r = 0.1\n",
    "theta = np.radians(30)"
   ]
  },
  {
   "cell_type": "code",
   "execution_count": 66,
   "metadata": {},
   "outputs": [
    {
     "data": {
      "text/plain": [
       "array([[1. , 0. , 0. , 2. ],\n",
       "       [0. , 1. , 0. , 1. ],\n",
       "       [0. , 0. , 1. , 0.1],\n",
       "       [0. , 0. , 0. , 1. ]])"
      ]
     },
     "execution_count": 66,
     "metadata": {},
     "output_type": "execute_result"
    }
   ],
   "source": [
    "TL = trans(np.array((x_r, y_r, r)).transpose())\n",
    "TL"
   ]
  },
  {
   "cell_type": "code",
   "execution_count": 67,
   "metadata": {},
   "outputs": [
    {
     "data": {
      "text/plain": [
       "array([[ 0.8660254, -0.5      ,  0.       ,  0.       ],\n",
       "       [ 0.5      ,  0.8660254,  0.       ,  0.       ],\n",
       "       [ 0.       ,  0.       ,  1.       ,  0.       ],\n",
       "       [ 0.       ,  0.       ,  0.       ,  1.       ]])"
      ]
     },
     "execution_count": 67,
     "metadata": {},
     "output_type": "execute_result"
    }
   ],
   "source": [
    "Rz = rot2trans(rotz(theta))\n",
    "Rz"
   ]
  },
  {
   "cell_type": "code",
   "execution_count": 68,
   "metadata": {},
   "outputs": [
    {
     "data": {
      "text/plain": [
       "array([[ 0.8660254, -0.5      ,  0.       ,  2.       ],\n",
       "       [ 0.5      ,  0.8660254,  0.       ,  1.       ],\n",
       "       [ 0.       ,  0.       ,  1.       ,  0.1      ],\n",
       "       [ 0.       ,  0.       ,  0.       ,  1.       ]])"
      ]
     },
     "execution_count": 68,
     "metadata": {},
     "output_type": "execute_result"
    }
   ],
   "source": [
    "T_OR = np.matmul(trans(np.array((x_r, y_r,r)).transpose()), rot2trans(rotz(theta)))\n",
    "T_OR"
   ]
  },
  {
   "cell_type": "code",
   "execution_count": 69,
   "metadata": {},
   "outputs": [],
   "source": [
    "l = 0.6\n",
    "h = 0.2"
   ]
  },
  {
   "cell_type": "code",
   "execution_count": 70,
   "metadata": {},
   "outputs": [
    {
     "data": {
      "text/plain": [
       "array([[1. , 0. , 0. , 0.2],\n",
       "       [0. , 1. , 0. , 0. ],\n",
       "       [0. , 0. , 1. , 0.2],\n",
       "       [0. , 0. , 0. , 1. ]])"
      ]
     },
     "execution_count": 70,
     "metadata": {},
     "output_type": "execute_result"
    }
   ],
   "source": [
    "T_R_DB = trans(np.array((l/2-r, 0,h)).transpose())\n",
    "T_R_DB"
   ]
  },
  {
   "cell_type": "code",
   "execution_count": 71,
   "metadata": {},
   "outputs": [],
   "source": [
    "alpha = np.radians(40)\n",
    "b = 0.1"
   ]
  },
  {
   "cell_type": "code",
   "execution_count": 72,
   "metadata": {},
   "outputs": [
    {
     "data": {
      "text/plain": [
       "array([[ 7.66044443e-01, -3.93593894e-17,  6.42787610e-01,\n",
       "         0.00000000e+00],\n",
       "       [ 6.42787610e-01,  4.69066938e-17, -7.66044443e-01,\n",
       "         0.00000000e+00],\n",
       "       [ 0.00000000e+00,  1.00000000e+00,  6.12323400e-17,\n",
       "         5.00000000e-02],\n",
       "       [ 0.00000000e+00,  0.00000000e+00,  0.00000000e+00,\n",
       "         1.00000000e+00]])"
      ]
     },
     "execution_count": 72,
     "metadata": {},
     "output_type": "execute_result"
    }
   ],
   "source": [
    "T_DB_D = np.matmul(trans(np.array((0, 0, b/2)).transpose()),\n",
    "                   np.matmul(rot2trans(rotz(alpha)), rot2trans(rotx(np.radians(90)))))\n",
    "T_DB_D"
   ]
  },
  {
   "cell_type": "code",
   "execution_count": 73,
   "metadata": {},
   "outputs": [],
   "source": [
    "a = 0.1\n",
    "l_1 = 0.5\n",
    "betha_1 = np.radians(30)\n",
    "l_2 = 0.5\n",
    "betha_2 = np.radians(-10)"
   ]
  },
  {
   "cell_type": "code",
   "execution_count": 74,
   "metadata": {},
   "outputs": [
    {
     "data": {
      "text/plain": [
       "array([[ 0.8660254, -0.5      ,  0.       ,  0.4330127],\n",
       "       [ 0.5      ,  0.8660254,  0.       ,  0.25     ],\n",
       "       [ 0.       ,  0.       ,  1.       ,  0.05     ],\n",
       "       [ 0.       ,  0.       ,  0.       ,  1.       ]])"
      ]
     },
     "execution_count": 74,
     "metadata": {},
     "output_type": "execute_result"
    }
   ],
   "source": [
    "T_D_A1 = np.matmul(trans(np.array((0, 0, a/2)).transpose())\n",
    "    ,np.matmul(rot2trans(rotz(betha_1)), \n",
    "                   trans(np.array((l_1, 0, 0)).transpose())))\n",
    "T_D_A1"
   ]
  },
  {
   "cell_type": "code",
   "execution_count": 75,
   "metadata": {},
   "outputs": [
    {
     "data": {
      "text/plain": [
       "array([[ 0.98480775,  0.17364818,  0.        ,  0.49240388],\n",
       "       [-0.17364818,  0.98480775,  0.        , -0.08682409],\n",
       "       [ 0.        ,  0.        ,  1.        ,  0.        ],\n",
       "       [ 0.        ,  0.        ,  0.        ,  1.        ]])"
      ]
     },
     "execution_count": 75,
     "metadata": {},
     "output_type": "execute_result"
    }
   ],
   "source": [
    "T_A1_A2 = np.matmul(rot2trans(rotz(betha_2)),\n",
    "                   trans(np.array((l_2, 0, 0)).transpose())) \n",
    "T_A1_A2"
   ]
  },
  {
   "cell_type": "code",
   "execution_count": 76,
   "metadata": {},
   "outputs": [],
   "source": [
    "p_A2 = np.array((0, 0, 0, 1)).transpose()"
   ]
  },
  {
   "cell_type": "code",
   "execution_count": 77,
   "metadata": {},
   "outputs": [
    {
     "data": {
      "text/plain": [
       "array([2.52898568, 1.93130894, 0.77101007, 1.        ])"
      ]
     },
     "execution_count": 77,
     "metadata": {},
     "output_type": "execute_result"
    }
   ],
   "source": [
    "p_O = np.matmul(T_OR, \n",
    "                np.matmul(T_R_DB, \n",
    "                    np.matmul(T_DB_D ,\n",
    "                        np.matmul(T_D_A1,\n",
    "                              np.matmul(T_A1_A2, p_A2)))))\n",
    "p_O"
   ]
  },
  {
   "cell_type": "code",
   "execution_count": 78,
   "metadata": {},
   "outputs": [],
   "source": [
    "#p_O =[2.57228695 1.95630894 0.77101007 1. ]   # Lösung von Prof. Blaich"
   ]
  },
  {
   "cell_type": "markdown",
   "metadata": {},
   "source": [
    "## Inverse Kinematik"
   ]
  },
  {
   "cell_type": "code",
   "execution_count": 79,
   "metadata": {},
   "outputs": [
    {
     "data": {
      "text/plain": [
       "array([0.92376951, 0.54204436, 0.67101007, 1.        ])"
      ]
     },
     "execution_count": 79,
     "metadata": {},
     "output_type": "execute_result"
    }
   ],
   "source": [
    "p_R = np.matmul(T_R_DB,np.matmul(T_DB_D, np.matmul(T_D_A1, np.matmul(T_A1_A2, p_A2))))\n",
    "p_R"
   ]
  },
  {
   "cell_type": "code",
   "execution_count": 80,
   "metadata": {},
   "outputs": [
    {
     "data": {
      "text/plain": [
       "0.9237695097652733"
      ]
     },
     "execution_count": 80,
     "metadata": {},
     "output_type": "execute_result"
    }
   ],
   "source": [
    "x_D = p_R[0]\n",
    "x_D"
   ]
  },
  {
   "cell_type": "code",
   "execution_count": 81,
   "metadata": {},
   "outputs": [
    {
     "data": {
      "text/plain": [
       "0.5420443642347876"
      ]
     },
     "execution_count": 81,
     "metadata": {},
     "output_type": "execute_result"
    }
   ],
   "source": [
    "y_D = p_R[1]\n",
    "y_D"
   ]
  },
  {
   "cell_type": "code",
   "execution_count": 82,
   "metadata": {},
   "outputs": [
    {
     "data": {
      "text/plain": [
       "0.6710100716628343"
      ]
     },
     "execution_count": 82,
     "metadata": {},
     "output_type": "execute_result"
    }
   ],
   "source": [
    "z_D = p_R[2] # Seitenansicht!\n",
    "z_D"
   ]
  },
  {
   "cell_type": "code",
   "execution_count": 83,
   "metadata": {},
   "outputs": [
    {
     "data": {
      "text/plain": [
       "1.1417550628067894"
      ]
     },
     "execution_count": 83,
     "metadata": {},
     "output_type": "execute_result"
    }
   ],
   "source": [
    "a = sqrt(x_D**2 + z_D**2)\n",
    "a"
   ]
  },
  {
   "cell_type": "code",
   "execution_count": 84,
   "metadata": {},
   "outputs": [
    {
     "data": {
      "text/plain": [
       "0.20090115586123392"
      ]
     },
     "execution_count": 84,
     "metadata": {},
     "output_type": "execute_result"
    }
   ],
   "source": [
    "c = (a**2 - l_1**2 - l_2**2)/2*l_1\n",
    "c"
   ]
  },
  {
   "cell_type": "code",
   "execution_count": 85,
   "metadata": {},
   "outputs": [],
   "source": [
    "epsilon = -1 # elbow up"
   ]
  },
  {
   "cell_type": "code",
   "execution_count": 86,
   "metadata": {},
   "outputs": [
    {
     "data": {
      "text/plain": [
       "-0.45786321710050065"
      ]
     },
     "execution_count": 86,
     "metadata": {},
     "output_type": "execute_result"
    }
   ],
   "source": [
    "b = epsilon * sqrt(l_2**2 - c**2)\n",
    "b"
   ]
  },
  {
   "cell_type": "code",
   "execution_count": 87,
   "metadata": {},
   "outputs": [
    {
     "data": {
      "text/plain": [
       "(1.206869905421848, 69.14855200202472)"
      ]
     },
     "execution_count": 87,
     "metadata": {},
     "output_type": "execute_result"
    }
   ],
   "source": [
    "betha_1 =atan2(z_D, x_D) - atan2(b, (l_1 + c))\n",
    "betha_1, np.degrees(betha_1)"
   ]
  },
  {
   "cell_type": "code",
   "execution_count": 88,
   "metadata": {},
   "outputs": [
    {
     "data": {
      "text/plain": [
       "(-1.157312151563466, -66.30910186379126)"
      ]
     },
     "execution_count": 88,
     "metadata": {},
     "output_type": "execute_result"
    }
   ],
   "source": [
    "betha_2 = atan2(b, c)\n",
    "betha_2, np.degrees(betha_2)"
   ]
  },
  {
   "cell_type": "code",
   "execution_count": 89,
   "metadata": {},
   "outputs": [
    {
     "data": {
      "text/plain": [
       "(0.5306380832516892, 30.403322619233403)"
      ]
     },
     "execution_count": 89,
     "metadata": {},
     "output_type": "execute_result"
    }
   ],
   "source": [
    "alpha = atan2(y_D, x_D)\n",
    "alpha, np.degrees(alpha)"
   ]
  },
  {
   "cell_type": "code",
   "execution_count": 90,
   "metadata": {},
   "outputs": [],
   "source": [
    "def calculate_KS_Denavit_Hartenberg(d, theta, a, alpha):\n",
    "    \"\"\"\n",
    "    Calculate the Transformation of one KS to another for the robot arms with Denavit-Hartenberg parameters\n",
    "    :param d: shift along the old z-axis so that it lies on the new joint axis\n",
    "    :param theta: rotate around the z-axis so that the old x-axis is in right angle to the new joint axis\n",
    "    :param a: shift along the old x-axis until the origin is on the new joint axis\n",
    "    :param alpha: rotate around the new x-axis around alpha so that the z-axis lies on the new joint axis\n",
    "    :return: transformation\n",
    "    \"\"\"\n",
    "    theta = np.radians(theta)   # my implementation is in radians\n",
    "    alpha = np.radians(alpha)   # my implementation is in radians\n",
    "    translation_d = trans((0, 0, d))\n",
    "    rotate_theta = rot2trans(rotz(theta))\n",
    "    translation_a = trans((a, 0, 0))\n",
    "    rotate_alpha = rot2trans(rotx(alpha))\n",
    "    transformation_ksx_to_ksy = np.matmul(np.matmul(np.matmul(translation_d, rotate_theta), translation_a),\n",
    "                                          rotate_alpha)\n",
    "    return transformation_ksx_to_ksy"
   ]
  },
  {
   "cell_type": "code",
   "execution_count": 97,
   "metadata": {},
   "outputs": [],
   "source": [
    "def forward_kinematic(alpha, betha_1, betha_2):\n",
    "    r = 0.1\n",
    "    l = 0.6\n",
    "    h = 0.2\n",
    "    a = 0 # simplification, was 0.1\n",
    "    b = 0 # simplification, was 0.1\n",
    "    l_1 = 0.5\n",
    "    l_2 = 0.5\n",
    "    p_A2 = np.array((0, 0, 0, 1)).transpose()\n",
    "    print(alpha, np.degrees(alpha))\n",
    "    print(betha_1, np.degrees(betha_1))\n",
    "    print(betha_2, np.degrees(betha_2))\n",
    "    \n",
    "    T_R_DB = trans(np.array((l/2-r, 0,h)).transpose())\n",
    "    T_DB_D = np.matmul(trans(np.array((0, 0, b/2)).transpose()),\n",
    "                   np.matmul(rot2trans(rotz(alpha)), rot2trans(rotx(np.radians(90)))))\n",
    "    T_D_A1 = np.matmul(trans(np.array((0, 0, a/2)).transpose()),\n",
    "                       np.matmul(rot2trans(rotz(betha_1)), \n",
    "                           trans(np.array((l_1, 0, 0)).transpose())))\n",
    "    T_A1_A2 = np.matmul(rot2trans(rotz(betha_2)),\n",
    "                   trans(np.array((l_2, 0, 0)).transpose())) \n",
    "    p_R = np.matmul(T_R_DB,np.matmul(T_DB_D, np.matmul(T_D_A1, np.matmul(T_A1_A2, p_A2))))\n",
    "    return p_R\n",
    "    "
   ]
  },
  {
   "cell_type": "code",
   "execution_count": null,
   "metadata": {},
   "outputs": [],
   "source": []
  },
  {
   "cell_type": "code",
   "execution_count": 98,
   "metadata": {},
   "outputs": [],
   "source": [
    "# forward_kinematic(alpha, betha_1, betha_2) # before the simplification\n",
    "#array([0.92376951, 0.54204436, 0.67101007, 1.        ])"
   ]
  },
  {
   "cell_type": "code",
   "execution_count": 99,
   "metadata": {},
   "outputs": [
    {
     "name": "stdout",
     "output_type": "stream",
     "text": [
      "0.6981317007977318 40.0\n",
      "0.5235987755982988 29.999999999999996\n",
      "-0.17453292519943295 -10.0\n"
     ]
    },
    {
     "data": {
      "text/plain": [
       "array([0.89163013, 0.58034659, 0.62101007, 1.        ])"
      ]
     },
     "execution_count": 99,
     "metadata": {},
     "output_type": "execute_result"
    }
   ],
   "source": [
    "forward_kinematic(np.radians(40), np.radians(30), np.radians(-10))"
   ]
  },
  {
   "cell_type": "code",
   "execution_count": 100,
   "metadata": {},
   "outputs": [
    {
     "name": "stdout",
     "output_type": "stream",
     "text": [
      "0.5306380832516892 30.403322619233403\n",
      "1.206869905421848 69.14855200202472\n",
      "-1.157312151563466 -66.30910186379126\n"
     ]
    },
    {
     "data": {
      "text/plain": [
       "array([0.78421173, 0.34280053, 0.69202195, 1.        ])"
      ]
     },
     "execution_count": 100,
     "metadata": {},
     "output_type": "execute_result"
    }
   ],
   "source": [
    "forward_kinematic(alpha, betha_1, betha_2)"
   ]
  },
  {
   "cell_type": "code",
   "execution_count": null,
   "metadata": {},
   "outputs": [],
   "source": []
  }
 ],
 "metadata": {
  "kernelspec": {
   "display_name": "Python 3",
   "language": "python",
   "name": "python3"
  },
  "language_info": {
   "codemirror_mode": {
    "name": "ipython",
    "version": 3
   },
   "file_extension": ".py",
   "mimetype": "text/x-python",
   "name": "python",
   "nbconvert_exporter": "python",
   "pygments_lexer": "ipython3",
   "version": "3.7.4"
  },
  "toc": {
   "base_numbering": 1,
   "nav_menu": {},
   "number_sections": true,
   "sideBar": true,
   "skip_h1_title": false,
   "title_cell": "Table of Contents",
   "title_sidebar": "Contents",
   "toc_cell": false,
   "toc_position": {},
   "toc_section_display": true,
   "toc_window_display": false
  },
  "varInspector": {
   "cols": {
    "lenName": 16,
    "lenType": 16,
    "lenVar": 40
   },
   "kernels_config": {
    "python": {
     "delete_cmd_postfix": "",
     "delete_cmd_prefix": "del ",
     "library": "var_list.py",
     "varRefreshCmd": "print(var_dic_list())"
    },
    "r": {
     "delete_cmd_postfix": ") ",
     "delete_cmd_prefix": "rm(",
     "library": "var_list.r",
     "varRefreshCmd": "cat(var_dic_list()) "
    }
   },
   "types_to_exclude": [
    "module",
    "function",
    "builtin_function_or_method",
    "instance",
    "_Feature"
   ],
   "window_display": false
  }
 },
 "nbformat": 4,
 "nbformat_minor": 4
}
