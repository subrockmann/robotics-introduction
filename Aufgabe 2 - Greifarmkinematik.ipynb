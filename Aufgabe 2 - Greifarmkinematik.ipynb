{
 "cells": [
  {
   "cell_type": "markdown",
   "metadata": {},
   "source": [
    "## a) Vorwärtskinematik\n"
   ]
  },
  {
   "cell_type": "code",
   "execution_count": 1,
   "metadata": {},
   "outputs": [],
   "source": [
    "import numpy as mp\n",
    "from math import sin, cos, sqrt, atan2\n",
    "from transformations import *"
   ]
  },
  {
   "cell_type": "code",
   "execution_count": 2,
   "metadata": {},
   "outputs": [],
   "source": [
    "# setup of variables\n",
    "x_r = 2\n",
    "y_r = 1\n",
    "r = 0.1\n",
    "theta = np.radians(30)"
   ]
  },
  {
   "cell_type": "code",
   "execution_count": 3,
   "metadata": {},
   "outputs": [
    {
     "data": {
      "text/plain": [
       "array([[1. , 0. , 0. , 2. ],\n",
       "       [0. , 1. , 0. , 1. ],\n",
       "       [0. , 0. , 1. , 0.1],\n",
       "       [0. , 0. , 0. , 1. ]])"
      ]
     },
     "execution_count": 3,
     "metadata": {},
     "output_type": "execute_result"
    }
   ],
   "source": [
    "TL = trans(np.array((x_r, y_r, r)).transpose())\n",
    "TL"
   ]
  },
  {
   "cell_type": "code",
   "execution_count": 4,
   "metadata": {},
   "outputs": [
    {
     "data": {
      "text/plain": [
       "array([[ 0.8660254, -0.5      ,  0.       ,  0.       ],\n",
       "       [ 0.5      ,  0.8660254,  0.       ,  0.       ],\n",
       "       [ 0.       ,  0.       ,  1.       ,  0.       ],\n",
       "       [ 0.       ,  0.       ,  0.       ,  1.       ]])"
      ]
     },
     "execution_count": 4,
     "metadata": {},
     "output_type": "execute_result"
    }
   ],
   "source": [
    "Rz = rot2trans(rotz(theta))\n",
    "Rz"
   ]
  },
  {
   "cell_type": "code",
   "execution_count": 5,
   "metadata": {},
   "outputs": [
    {
     "data": {
      "text/plain": [
       "array([[ 0.8660254, -0.5      ,  0.       ,  2.       ],\n",
       "       [ 0.5      ,  0.8660254,  0.       ,  1.       ],\n",
       "       [ 0.       ,  0.       ,  1.       ,  0.1      ],\n",
       "       [ 0.       ,  0.       ,  0.       ,  1.       ]])"
      ]
     },
     "execution_count": 5,
     "metadata": {},
     "output_type": "execute_result"
    }
   ],
   "source": [
    "T_OR = np.matmul(trans(np.array((x_r, y_r,r)).transpose()), rot2trans(rotz(theta)))\n",
    "T_OR"
   ]
  },
  {
   "cell_type": "code",
   "execution_count": 6,
   "metadata": {},
   "outputs": [],
   "source": [
    "l = 0.6\n",
    "h = 0.2\n",
    "a = 0 #  simplification, was 0.1"
   ]
  },
  {
   "cell_type": "code",
   "execution_count": 7,
   "metadata": {},
   "outputs": [
    {
     "data": {
      "text/plain": [
       "array([[1. , 0. , 0. , 0.3],\n",
       "       [0. , 1. , 0. , 0. ],\n",
       "       [0. , 0. , 1. , 0.2],\n",
       "       [0. , 0. , 0. , 1. ]])"
      ]
     },
     "execution_count": 7,
     "metadata": {},
     "output_type": "execute_result"
    }
   ],
   "source": [
    "T_R_DB = trans(np.array((l/2-a/2, 0,h)).transpose())\n",
    "T_R_DB"
   ]
  },
  {
   "cell_type": "code",
   "execution_count": 10,
   "metadata": {},
   "outputs": [],
   "source": [
    "alpha = np.radians(40)\n",
    "b = 0 # simplification! was 0.1"
   ]
  },
  {
   "cell_type": "code",
   "execution_count": 11,
   "metadata": {},
   "outputs": [
    {
     "data": {
      "text/plain": [
       "array([[ 7.66044443e-01, -3.93593894e-17,  6.42787610e-01,\n",
       "         0.00000000e+00],\n",
       "       [ 6.42787610e-01,  4.69066938e-17, -7.66044443e-01,\n",
       "         0.00000000e+00],\n",
       "       [ 0.00000000e+00,  1.00000000e+00,  6.12323400e-17,\n",
       "         0.00000000e+00],\n",
       "       [ 0.00000000e+00,  0.00000000e+00,  0.00000000e+00,\n",
       "         1.00000000e+00]])"
      ]
     },
     "execution_count": 11,
     "metadata": {},
     "output_type": "execute_result"
    }
   ],
   "source": [
    "T_DB_D = np.matmul(trans(np.array((0, 0, b/2)).transpose()),\n",
    "                   np.matmul(rot2trans(rotz(alpha)), rot2trans(rotx(np.radians(90)))))\n",
    "T_DB_D"
   ]
  },
  {
   "cell_type": "code",
   "execution_count": 12,
   "metadata": {},
   "outputs": [],
   "source": [
    "\n",
    "l_1 = 0.5\n",
    "betha_1 = np.radians(30)\n",
    "l_2 = 0.5\n",
    "betha_2 = np.radians(-10)"
   ]
  },
  {
   "cell_type": "code",
   "execution_count": 13,
   "metadata": {},
   "outputs": [
    {
     "data": {
      "text/plain": [
       "array([[ 0.8660254, -0.5      ,  0.       ,  0.4330127],\n",
       "       [ 0.5      ,  0.8660254,  0.       ,  0.25     ],\n",
       "       [ 0.       ,  0.       ,  1.       ,  0.       ],\n",
       "       [ 0.       ,  0.       ,  0.       ,  1.       ]])"
      ]
     },
     "execution_count": 13,
     "metadata": {},
     "output_type": "execute_result"
    }
   ],
   "source": [
    "T_D_A1 = np.matmul(trans(np.array((0, 0, a/2)).transpose())\n",
    "    ,np.matmul(rot2trans(rotz(betha_1)), \n",
    "                   trans(np.array((l_1, 0, 0)).transpose())))\n",
    "T_D_A1"
   ]
  },
  {
   "cell_type": "code",
   "execution_count": 14,
   "metadata": {},
   "outputs": [
    {
     "data": {
      "text/plain": [
       "array([[ 0.98480775,  0.17364818,  0.        ,  0.49240388],\n",
       "       [-0.17364818,  0.98480775,  0.        , -0.08682409],\n",
       "       [ 0.        ,  0.        ,  1.        ,  0.        ],\n",
       "       [ 0.        ,  0.        ,  0.        ,  1.        ]])"
      ]
     },
     "execution_count": 14,
     "metadata": {},
     "output_type": "execute_result"
    }
   ],
   "source": [
    "T_A1_A2 = np.matmul(rot2trans(rotz(betha_2)),\n",
    "                   trans(np.array((l_2, 0, 0)).transpose())) \n",
    "T_A1_A2"
   ]
  },
  {
   "cell_type": "code",
   "execution_count": 15,
   "metadata": {},
   "outputs": [],
   "source": [
    "p_A2 = np.array((0, 0, 0, 1)).transpose()"
   ]
  },
  {
   "cell_type": "code",
   "execution_count": 16,
   "metadata": {},
   "outputs": [
    {
     "data": {
      "text/plain": [
       "array([2.56860359, 1.99840995, 0.72101007, 1.        ])"
      ]
     },
     "execution_count": 16,
     "metadata": {},
     "output_type": "execute_result"
    }
   ],
   "source": [
    "p_O = np.matmul(T_OR, \n",
    "                np.matmul(T_R_DB, \n",
    "                    np.matmul(T_DB_D ,\n",
    "                        np.matmul(T_D_A1,\n",
    "                              np.matmul(T_A1_A2, p_A2)))))\n",
    "p_O"
   ]
  },
  {
   "cell_type": "code",
   "execution_count": 54,
   "metadata": {},
   "outputs": [],
   "source": [
    "#p_O =[2.57228695 1.95630894 0.77101007 1. ]   # Lösung von Prof. Blaich"
   ]
  },
  {
   "cell_type": "code",
   "execution_count": 55,
   "metadata": {},
   "outputs": [],
   "source": [
    "def calculate_KS_Denavit_Hartenberg(d, theta, a, alpha):\n",
    "    \"\"\"\n",
    "    Calculate the Transformation of one KS to another for the robot arms with Denavit-Hartenberg parameters\n",
    "    :param d: shift along the old z-axis so that it lies on the new joint axis\n",
    "    :param theta: rotate around the z-axis so that the old x-axis is in right angle to the new joint axis\n",
    "    :param a: shift along the old x-axis until the origin is on the new joint axis\n",
    "    :param alpha: rotate around the new x-axis around alpha so that the z-axis lies on the new joint axis\n",
    "    :return: transformation\n",
    "    \"\"\"\n",
    "    theta = np.radians(theta)   # my implementation is in radians\n",
    "    alpha = np.radians(alpha)   # my implementation is in radians\n",
    "    translation_d = trans((0, 0, d))\n",
    "    rotate_theta = rot2trans(rotz(theta))\n",
    "    translation_a = trans((a, 0, 0))\n",
    "    rotate_alpha = rot2trans(rotx(alpha))\n",
    "    transformation_ksx_to_ksy = np.matmul(np.matmul(np.matmul(translation_d, rotate_theta), translation_a),\n",
    "                                          rotate_alpha)\n",
    "    return transformation_ksx_to_ksy"
   ]
  },
  {
   "cell_type": "markdown",
   "metadata": {},
   "source": [
    "## Inverse Kinematik"
   ]
  },
  {
   "cell_type": "markdown",
   "metadata": {},
   "source": [
    "p_R =\n",
    " [0.99163013 0.58034659 0.62101007 1.        ]\n",
    "from Michael Blaich to everyone:    10:57 AM\n",
    "p_O =\n",
    " [2.57228695 1.95630894 0.77101007 1.        ]"
   ]
  },
  {
   "cell_type": "code",
   "execution_count": 17,
   "metadata": {},
   "outputs": [
    {
     "data": {
      "text/plain": [
       "array([0.99163013, 0.58034659, 0.62101007, 1.        ])"
      ]
     },
     "execution_count": 17,
     "metadata": {},
     "output_type": "execute_result"
    }
   ],
   "source": [
    "p_R = np.matmul(T_R_DB,np.matmul(T_DB_D, np.matmul(T_D_A1, np.matmul(T_A1_A2, p_A2))))\n",
    "p_R"
   ]
  },
  {
   "cell_type": "code",
   "execution_count": 29,
   "metadata": {},
   "outputs": [],
   "source": [
    "def forward_kinematic(alpha, betha_1, betha_2):\n",
    "    r = 0.1\n",
    "    l = 0.6\n",
    "    h = 0.2\n",
    "    a = 0 # simplification, was 0.1\n",
    "    b = 0 # simplification, was 0.1\n",
    "    l_1 = 0.5\n",
    "    l_2 = 0.5\n",
    "    p_A2 = np.array((0, 0, 0, 1)).transpose()\n",
    "    #print(alpha, np.degrees(alpha))\n",
    "    #print(betha_1, np.degrees(betha_1))\n",
    "    #print(betha_2, np.degrees(betha_2))\n",
    "    \n",
    "    T_R_DB = trans(np.array((l/2-a/2, 0,h)).transpose())\n",
    "    T_DB_D = np.matmul(trans(np.array((0, 0, b/2)).transpose()),\n",
    "                   np.matmul(rot2trans(rotz(alpha)), rot2trans(rotx(np.radians(90)))))\n",
    "    T_D_A1 = np.matmul(trans(np.array((0, 0, a/2)).transpose()),\n",
    "                       np.matmul(rot2trans(rotz(betha_1)), \n",
    "                           trans(np.array((l_1, 0, 0)).transpose())))\n",
    "    T_A1_A2 = np.matmul(rot2trans(rotz(betha_2)),\n",
    "                   trans(np.array((l_2, 0, 0)).transpose())) \n",
    "    p_R = np.matmul(T_R_DB,np.matmul(T_DB_D, np.matmul(T_D_A1, np.matmul(T_A1_A2, p_A2))))\n",
    "    return p_R"
   ]
  },
  {
   "cell_type": "code",
   "execution_count": 30,
   "metadata": {},
   "outputs": [
    {
     "data": {
      "text/plain": [
       "array([0.99163013, 0.58034659, 0.62101007, 1.        ])"
      ]
     },
     "execution_count": 30,
     "metadata": {},
     "output_type": "execute_result"
    }
   ],
   "source": [
    "forward_kinematic(np.radians(40), np.radians(30), np.radians(-10))\n",
    "#forward_kinematic(alpha, betha_1, betha_2)"
   ]
  },
  {
   "cell_type": "code",
   "execution_count": 31,
   "metadata": {},
   "outputs": [],
   "source": [
    "def backward_kinematic(p_R):\n",
    "    r = 0.1\n",
    "    l = 0.6\n",
    "    h = 0.2\n",
    "    a = 0 # simplification, was 0.1\n",
    "    b = 0 # simplification, was 0.1\n",
    "    l_1 = 0.5\n",
    "    l_2 = 0.5\n",
    "    p_A2 = np.array((0, 0, 0, 1)).transpose()\n",
    "    \n",
    "    x_R = p_R[0]\n",
    "    y_R = p_R[1]\n",
    "    \n",
    "    alpha = atan2(y_R, x_R)\n",
    "    \n",
    "    T_R_DB = trans(np.array((l/2-a/2, 0,h)).transpose())\n",
    "    T_DB_R = np.linalg.inv(T_R_DB)\n",
    "    T_DB_D = np.matmul(trans(np.array((0, 0, b/2)).transpose()),\n",
    "                   np.matmul(rot2trans(rotz(alpha)), rot2trans(rotx(np.radians(90)))))\n",
    "    T_D_DB = np.linalg.inv(T_DB_D)\n",
    "    \n",
    "    p_D = np.matmul(T_D_DB, np.matmul(T_DB_R, p_R))\n",
    "    x_D = p_D[0]\n",
    "    y_D = p_D[1]\n",
    "\n",
    "    a = sqrt(x_D**2 + y_D**2)\n",
    "    c = (a**2 - l_1**2 - l_2**2)/2*l_1\n",
    "    epsilon = -1 # elbow up\n",
    "    b = epsilon * sqrt(l_2**2 - c**2)\n",
    "    betha_1 =atan2(y_D, x_D) - atan2(b, (l_1 + c))\n",
    "    betha_2 = atan2(b, c)\n",
    "\n",
    "    print(\"alpha \" + str(alpha)+ \" \" + str(np.degrees(alpha)))\n",
    "    print(\"betha_1 \" + str(betha_1)+ \" \" + str(np.degrees(betha_1)))\n",
    "    print(\"betha_2 \" + str(betha_2)+ \" \" + str(np.degrees(betha_2)))\n",
    "    return alpha, betha_1, betha_2"
   ]
  },
  {
   "cell_type": "code",
   "execution_count": 32,
   "metadata": {},
   "outputs": [
    {
     "name": "stdout",
     "output_type": "stream",
     "text": [
      "alpha 0.5294995915107659 30.338091847467997\n",
      "betha_1 1.1087616649874628 63.52736388967971\n",
      "betha_2 -1.3338645828243063 -76.42481103781098\n"
     ]
    }
   ],
   "source": [
    "b_alpha, b_betha_1, b_betha_2 = backward_kinematic(p_R)"
   ]
  },
  {
   "cell_type": "code",
   "execution_count": 33,
   "metadata": {},
   "outputs": [
    {
     "data": {
      "text/plain": [
       "array([0.91300622, 0.35875883, 0.53597034, 1.        ])"
      ]
     },
     "execution_count": 33,
     "metadata": {},
     "output_type": "execute_result"
    }
   ],
   "source": [
    "forward_kinematic(b_alpha, b_betha_1, b_betha_2)"
   ]
  },
  {
   "cell_type": "code",
   "execution_count": null,
   "metadata": {},
   "outputs": [],
   "source": []
  }
 ],
 "metadata": {
  "kernelspec": {
   "display_name": "Python 3",
   "language": "python",
   "name": "python3"
  },
  "language_info": {
   "codemirror_mode": {
    "name": "ipython",
    "version": 3
   },
   "file_extension": ".py",
   "mimetype": "text/x-python",
   "name": "python",
   "nbconvert_exporter": "python",
   "pygments_lexer": "ipython3",
   "version": "3.7.4"
  },
  "toc": {
   "base_numbering": 1,
   "nav_menu": {},
   "number_sections": true,
   "sideBar": true,
   "skip_h1_title": false,
   "title_cell": "Table of Contents",
   "title_sidebar": "Contents",
   "toc_cell": false,
   "toc_position": {},
   "toc_section_display": true,
   "toc_window_display": false
  },
  "varInspector": {
   "cols": {
    "lenName": 16,
    "lenType": 16,
    "lenVar": 40
   },
   "kernels_config": {
    "python": {
     "delete_cmd_postfix": "",
     "delete_cmd_prefix": "del ",
     "library": "var_list.py",
     "varRefreshCmd": "print(var_dic_list())"
    },
    "r": {
     "delete_cmd_postfix": ") ",
     "delete_cmd_prefix": "rm(",
     "library": "var_list.r",
     "varRefreshCmd": "cat(var_dic_list()) "
    }
   },
   "types_to_exclude": [
    "module",
    "function",
    "builtin_function_or_method",
    "instance",
    "_Feature"
   ],
   "window_display": false
  }
 },
 "nbformat": 4,
 "nbformat_minor": 4
}
