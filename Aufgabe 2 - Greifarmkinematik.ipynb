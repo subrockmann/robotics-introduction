{
 "cells": [
  {
   "cell_type": "markdown",
   "metadata": {},
   "source": [
    "## a) Vorwärtskinematik\n"
   ]
  },
  {
   "cell_type": "code",
   "execution_count": 63,
   "metadata": {},
   "outputs": [],
   "source": [
    "import numpy as mp\n",
    "from math import sin, cos, sqrt, atan2\n",
    "from transformations import *"
   ]
  },
  {
   "cell_type": "code",
   "execution_count": 76,
   "metadata": {},
   "outputs": [],
   "source": [
    "# setup of variables\n",
    "x_r = 2\n",
    "y_r = 1\n",
    "r = 0.1\n",
    "theta = np.radians(30)"
   ]
  },
  {
   "cell_type": "code",
   "execution_count": 77,
   "metadata": {},
   "outputs": [
    {
     "data": {
      "text/plain": [
       "array([[1. , 0. , 0. , 2. ],\n",
       "       [0. , 1. , 0. , 1. ],\n",
       "       [0. , 0. , 1. , 0.1],\n",
       "       [0. , 0. , 0. , 1. ]])"
      ]
     },
     "execution_count": 77,
     "metadata": {},
     "output_type": "execute_result"
    }
   ],
   "source": [
    "TL = trans(np.array((x_r, y_r, r)).transpose())\n",
    "TL"
   ]
  },
  {
   "cell_type": "code",
   "execution_count": 78,
   "metadata": {},
   "outputs": [
    {
     "data": {
      "text/plain": [
       "array([[ 0.8660254, -0.5      ,  0.       ,  0.       ],\n",
       "       [ 0.5      ,  0.8660254,  0.       ,  0.       ],\n",
       "       [ 0.       ,  0.       ,  1.       ,  0.       ],\n",
       "       [ 0.       ,  0.       ,  0.       ,  1.       ]])"
      ]
     },
     "execution_count": 78,
     "metadata": {},
     "output_type": "execute_result"
    }
   ],
   "source": [
    "Rz = rot2trans(rotz(theta))\n",
    "Rz"
   ]
  },
  {
   "cell_type": "code",
   "execution_count": 92,
   "metadata": {},
   "outputs": [
    {
     "data": {
      "text/plain": [
       "array([[ 0.8660254, -0.5      ,  0.       ,  2.       ],\n",
       "       [ 0.5      ,  0.8660254,  0.       ,  1.       ],\n",
       "       [ 0.       ,  0.       ,  1.       ,  0.1      ],\n",
       "       [ 0.       ,  0.       ,  0.       ,  1.       ]])"
      ]
     },
     "execution_count": 92,
     "metadata": {},
     "output_type": "execute_result"
    }
   ],
   "source": [
    "T_OR = np.matmul(trans(np.array((x_r, y_r,r)).transpose()), rot2trans(rotz(theta)))\n",
    "T_OR"
   ]
  },
  {
   "cell_type": "code",
   "execution_count": 80,
   "metadata": {},
   "outputs": [],
   "source": [
    "l = 0.6\n",
    "h = 0.2"
   ]
  },
  {
   "cell_type": "code",
   "execution_count": 93,
   "metadata": {},
   "outputs": [
    {
     "data": {
      "text/plain": [
       "array([[1. , 0. , 0. , 0.3],\n",
       "       [0. , 1. , 0. , 0. ],\n",
       "       [0. , 0. , 1. , 0.2],\n",
       "       [0. , 0. , 0. , 1. ]])"
      ]
     },
     "execution_count": 93,
     "metadata": {},
     "output_type": "execute_result"
    }
   ],
   "source": [
    "T_R_DB = trans(np.array((l/2-a/2, 0,h)).transpose())\n",
    "T_R_DB"
   ]
  },
  {
   "cell_type": "code",
   "execution_count": 94,
   "metadata": {},
   "outputs": [],
   "source": [
    "alpha = np.radians(40)\n",
    "b = 0 # simplification! was 0.1"
   ]
  },
  {
   "cell_type": "code",
   "execution_count": 95,
   "metadata": {},
   "outputs": [
    {
     "data": {
      "text/plain": [
       "array([[ 7.66044443e-01, -3.93593894e-17,  6.42787610e-01,\n",
       "         0.00000000e+00],\n",
       "       [ 6.42787610e-01,  4.69066938e-17, -7.66044443e-01,\n",
       "         0.00000000e+00],\n",
       "       [ 0.00000000e+00,  1.00000000e+00,  6.12323400e-17,\n",
       "         0.00000000e+00],\n",
       "       [ 0.00000000e+00,  0.00000000e+00,  0.00000000e+00,\n",
       "         1.00000000e+00]])"
      ]
     },
     "execution_count": 95,
     "metadata": {},
     "output_type": "execute_result"
    }
   ],
   "source": [
    "T_DB_D = np.matmul(trans(np.array((0, 0, b/2)).transpose()),\n",
    "                   np.matmul(rot2trans(rotz(alpha)), rot2trans(rotx(np.radians(90)))))\n",
    "T_DB_D"
   ]
  },
  {
   "cell_type": "code",
   "execution_count": 96,
   "metadata": {},
   "outputs": [],
   "source": [
    "a = 0 #  simplification, was 0.1\n",
    "l_1 = 0.5\n",
    "betha_1 = np.radians(30)\n",
    "l_2 = 0.5\n",
    "betha_2 = np.radians(-10)"
   ]
  },
  {
   "cell_type": "code",
   "execution_count": 97,
   "metadata": {},
   "outputs": [
    {
     "data": {
      "text/plain": [
       "array([[ 0.8660254, -0.5      ,  0.       ,  0.4330127],\n",
       "       [ 0.5      ,  0.8660254,  0.       ,  0.25     ],\n",
       "       [ 0.       ,  0.       ,  1.       ,  0.       ],\n",
       "       [ 0.       ,  0.       ,  0.       ,  1.       ]])"
      ]
     },
     "execution_count": 97,
     "metadata": {},
     "output_type": "execute_result"
    }
   ],
   "source": [
    "T_D_A1 = np.matmul(trans(np.array((0, 0, a/2)).transpose())\n",
    "    ,np.matmul(rot2trans(rotz(betha_1)), \n",
    "                   trans(np.array((l_1, 0, 0)).transpose())))\n",
    "T_D_A1"
   ]
  },
  {
   "cell_type": "code",
   "execution_count": 98,
   "metadata": {},
   "outputs": [
    {
     "data": {
      "text/plain": [
       "array([[ 0.98480775,  0.17364818,  0.        ,  0.49240388],\n",
       "       [-0.17364818,  0.98480775,  0.        , -0.08682409],\n",
       "       [ 0.        ,  0.        ,  1.        ,  0.        ],\n",
       "       [ 0.        ,  0.        ,  0.        ,  1.        ]])"
      ]
     },
     "execution_count": 98,
     "metadata": {},
     "output_type": "execute_result"
    }
   ],
   "source": [
    "T_A1_A2 = np.matmul(rot2trans(rotz(betha_2)),\n",
    "                   trans(np.array((l_2, 0, 0)).transpose())) \n",
    "T_A1_A2"
   ]
  },
  {
   "cell_type": "code",
   "execution_count": 99,
   "metadata": {},
   "outputs": [],
   "source": [
    "p_A2 = np.array((0, 0, 0, 1)).transpose()"
   ]
  },
  {
   "cell_type": "code",
   "execution_count": 100,
   "metadata": {},
   "outputs": [
    {
     "data": {
      "text/plain": [
       "array([2.56860359, 1.99840995, 0.72101007, 1.        ])"
      ]
     },
     "execution_count": 100,
     "metadata": {},
     "output_type": "execute_result"
    }
   ],
   "source": [
    "p_O = np.matmul(T_OR, \n",
    "                np.matmul(T_R_DB, \n",
    "                    np.matmul(T_DB_D ,\n",
    "                        np.matmul(T_D_A1,\n",
    "                              np.matmul(T_A1_A2, p_A2)))))\n",
    "p_O"
   ]
  },
  {
   "cell_type": "code",
   "execution_count": 101,
   "metadata": {},
   "outputs": [],
   "source": [
    "#p_O =[2.57228695 1.95630894 0.77101007 1. ]   # Lösung von Prof. Blaich"
   ]
  },
  {
   "cell_type": "markdown",
   "metadata": {},
   "source": [
    "p_R =\n",
    " [0.99163013 0.58034659 0.62101007 1.        ]\n",
    "from Michael Blaich to everyone:    10:57 AM\n",
    "p_O =\n",
    " [2.57228695 1.95630894 0.77101007 1.        ]"
   ]
  },
  {
   "cell_type": "markdown",
   "metadata": {},
   "source": [
    "## Inverse Kinematik"
   ]
  },
  {
   "cell_type": "code",
   "execution_count": 102,
   "metadata": {},
   "outputs": [
    {
     "data": {
      "text/plain": [
       "array([0.99163013, 0.58034659, 0.62101007, 1.        ])"
      ]
     },
     "execution_count": 102,
     "metadata": {},
     "output_type": "execute_result"
    }
   ],
   "source": [
    "p_R = np.matmul(T_R_DB,np.matmul(T_DB_D, np.matmul(T_D_A1, np.matmul(T_A1_A2, p_A2))))\n",
    "p_R"
   ]
  },
  {
   "cell_type": "code",
   "execution_count": 103,
   "metadata": {},
   "outputs": [
    {
     "data": {
      "text/plain": [
       "array([0.90285901, 0.42101007, 0.        , 1.        ])"
      ]
     },
     "execution_count": 103,
     "metadata": {},
     "output_type": "execute_result"
    }
   ],
   "source": [
    "p_D = np.matmul(T_D_A1, np.matmul(T_A1_A2, p_A2))\n",
    "p_D"
   ]
  },
  {
   "cell_type": "code",
   "execution_count": 104,
   "metadata": {},
   "outputs": [
    {
     "data": {
      "text/plain": [
       "0.9028590122851736"
      ]
     },
     "execution_count": 104,
     "metadata": {},
     "output_type": "execute_result"
    }
   ],
   "source": [
    "x_D = p_D[0]\n",
    "x_D"
   ]
  },
  {
   "cell_type": "code",
   "execution_count": 105,
   "metadata": {},
   "outputs": [
    {
     "data": {
      "text/plain": [
       "0.42101007166283433"
      ]
     },
     "execution_count": 105,
     "metadata": {},
     "output_type": "execute_result"
    }
   ],
   "source": [
    "y_D = p_D[1]\n",
    "y_D"
   ]
  },
  {
   "cell_type": "code",
   "execution_count": 106,
   "metadata": {},
   "outputs": [
    {
     "data": {
      "text/plain": [
       "0.6210100716628344"
      ]
     },
     "execution_count": 106,
     "metadata": {},
     "output_type": "execute_result"
    }
   ],
   "source": [
    "z_D = p_R[2] # Seitenansicht!\n",
    "z_D"
   ]
  },
  {
   "cell_type": "code",
   "execution_count": 107,
   "metadata": {},
   "outputs": [
    {
     "data": {
      "text/plain": [
       "1.0958138095366559"
      ]
     },
     "execution_count": 107,
     "metadata": {},
     "output_type": "execute_result"
    }
   ],
   "source": [
    "a = sqrt(x_D**2 + z_D**2)\n",
    "a"
   ]
  },
  {
   "cell_type": "code",
   "execution_count": 108,
   "metadata": {},
   "outputs": [
    {
     "data": {
      "text/plain": [
       "0.1752019762928096"
      ]
     },
     "execution_count": 108,
     "metadata": {},
     "output_type": "execute_result"
    }
   ],
   "source": [
    "c = (a**2 - l_1**2 - l_2**2)/2*l_1\n",
    "c"
   ]
  },
  {
   "cell_type": "code",
   "execution_count": 109,
   "metadata": {},
   "outputs": [],
   "source": [
    "epsilon = -1 # elbow up"
   ]
  },
  {
   "cell_type": "code",
   "execution_count": 110,
   "metadata": {},
   "outputs": [
    {
     "data": {
      "text/plain": [
       "-0.468299335364779"
      ]
     },
     "execution_count": 110,
     "metadata": {},
     "output_type": "execute_result"
    }
   ],
   "source": [
    "b = epsilon * sqrt(l_2**2 - c**2)\n",
    "b"
   ]
  },
  {
   "cell_type": "code",
   "execution_count": 111,
   "metadata": {},
   "outputs": [
    {
     "data": {
      "text/plain": [
       "(1.2089057882280811, 69.26519949440512)"
      ]
     },
     "execution_count": 111,
     "metadata": {},
     "output_type": "execute_result"
    }
   ],
   "source": [
    "betha_1 =atan2(z_D, x_D) - atan2(b, (l_1 + c))\n",
    "betha_1, np.degrees(betha_1)"
   ]
  },
  {
   "cell_type": "code",
   "execution_count": 112,
   "metadata": {},
   "outputs": [
    {
     "data": {
      "text/plain": [
       "(-1.2127939605121516, -69.4879753563021)"
      ]
     },
     "execution_count": 112,
     "metadata": {},
     "output_type": "execute_result"
    }
   ],
   "source": [
    "betha_2 = atan2(b, c)\n",
    "betha_2, np.degrees(betha_2)"
   ]
  },
  {
   "cell_type": "code",
   "execution_count": 113,
   "metadata": {},
   "outputs": [
    {
     "data": {
      "text/plain": [
       "(0.43633231299858233, 24.999999999999996)"
      ]
     },
     "execution_count": 113,
     "metadata": {},
     "output_type": "execute_result"
    }
   ],
   "source": [
    "alpha = atan2(y_D, x_D)\n",
    "alpha, np.degrees(alpha)"
   ]
  },
  {
   "cell_type": "code",
   "execution_count": 114,
   "metadata": {},
   "outputs": [],
   "source": [
    "def calculate_KS_Denavit_Hartenberg(d, theta, a, alpha):\n",
    "    \"\"\"\n",
    "    Calculate the Transformation of one KS to another for the robot arms with Denavit-Hartenberg parameters\n",
    "    :param d: shift along the old z-axis so that it lies on the new joint axis\n",
    "    :param theta: rotate around the z-axis so that the old x-axis is in right angle to the new joint axis\n",
    "    :param a: shift along the old x-axis until the origin is on the new joint axis\n",
    "    :param alpha: rotate around the new x-axis around alpha so that the z-axis lies on the new joint axis\n",
    "    :return: transformation\n",
    "    \"\"\"\n",
    "    theta = np.radians(theta)   # my implementation is in radians\n",
    "    alpha = np.radians(alpha)   # my implementation is in radians\n",
    "    translation_d = trans((0, 0, d))\n",
    "    rotate_theta = rot2trans(rotz(theta))\n",
    "    translation_a = trans((a, 0, 0))\n",
    "    rotate_alpha = rot2trans(rotx(alpha))\n",
    "    transformation_ksx_to_ksy = np.matmul(np.matmul(np.matmul(translation_d, rotate_theta), translation_a),\n",
    "                                          rotate_alpha)\n",
    "    return transformation_ksx_to_ksy"
   ]
  },
  {
   "cell_type": "code",
   "execution_count": 115,
   "metadata": {},
   "outputs": [],
   "source": [
    "def forward_kinematic(alpha, betha_1, betha_2):\n",
    "    r = 0.1\n",
    "    l = 0.6\n",
    "    h = 0.2\n",
    "    a = 0 # simplification, was 0.1\n",
    "    b = 0 # simplification, was 0.1\n",
    "    l_1 = 0.5\n",
    "    l_2 = 0.5\n",
    "    p_A2 = np.array((0, 0, 0, 1)).transpose()\n",
    "    print(alpha, np.degrees(alpha))\n",
    "    print(betha_1, np.degrees(betha_1))\n",
    "    print(betha_2, np.degrees(betha_2))\n",
    "    \n",
    "    T_R_DB = trans(np.array((l/2-r, 0,h)).transpose())\n",
    "    T_DB_D = np.matmul(trans(np.array((0, 0, b/2)).transpose()),\n",
    "                   np.matmul(rot2trans(rotz(alpha)), rot2trans(rotx(np.radians(90)))))\n",
    "    T_D_A1 = np.matmul(trans(np.array((0, 0, a/2)).transpose()),\n",
    "                       np.matmul(rot2trans(rotz(betha_1)), \n",
    "                           trans(np.array((l_1, 0, 0)).transpose())))\n",
    "    T_A1_A2 = np.matmul(rot2trans(rotz(betha_2)),\n",
    "                   trans(np.array((l_2, 0, 0)).transpose())) \n",
    "    p_R = np.matmul(T_R_DB,np.matmul(T_DB_D, np.matmul(T_D_A1, np.matmul(T_A1_A2, p_A2))))\n",
    "    return p_R\n",
    "    "
   ]
  },
  {
   "cell_type": "code",
   "execution_count": null,
   "metadata": {},
   "outputs": [],
   "source": []
  },
  {
   "cell_type": "code",
   "execution_count": 116,
   "metadata": {},
   "outputs": [],
   "source": [
    "# forward_kinematic(alpha, betha_1, betha_2) # before the simplification\n",
    "#array([0.92376951, 0.54204436, 0.67101007, 1.        ])"
   ]
  },
  {
   "cell_type": "code",
   "execution_count": 117,
   "metadata": {},
   "outputs": [
    {
     "name": "stdout",
     "output_type": "stream",
     "text": [
      "0.6981317007977318 40.0\n",
      "0.5235987755982988 29.999999999999996\n",
      "-0.17453292519943295 -10.0\n"
     ]
    },
    {
     "data": {
      "text/plain": [
       "array([0.89163013, 0.58034659, 0.62101007, 1.        ])"
      ]
     },
     "execution_count": 117,
     "metadata": {},
     "output_type": "execute_result"
    }
   ],
   "source": [
    "forward_kinematic(np.radians(40), np.radians(30), np.radians(-10))"
   ]
  },
  {
   "cell_type": "code",
   "execution_count": 118,
   "metadata": {},
   "outputs": [
    {
     "name": "stdout",
     "output_type": "stream",
     "text": [
      "0.43633231299858233 24.999999999999996\n",
      "1.2089057882280811 69.26519949440512\n",
      "-1.2127939605121516 -69.4879753563021\n"
     ]
    },
    {
     "data": {
      "text/plain": [
       "array([0.81358641, 0.28612004, 0.6656705 , 1.        ])"
      ]
     },
     "execution_count": 118,
     "metadata": {},
     "output_type": "execute_result"
    }
   ],
   "source": [
    "forward_kinematic(alpha, betha_1, betha_2)"
   ]
  },
  {
   "cell_type": "code",
   "execution_count": 119,
   "metadata": {},
   "outputs": [],
   "source": [
    "def backward_kinematic(p_A2):\n",
    "    # point in relation to robot coordinate system\n",
    "    p_R = np.matmul(T_R_DB,np.matmul(T_DB_D, np.matmul(T_D_A1, np.matmul(T_A1_A2, p_A2))))\n",
    "    # point in relation to \"Drehteller\"\n",
    "    p_D = np.matmul(T_D_A1, np.matmul(T_A1_A2, p_A2))\n",
    "    x_D = p_D[0]\n",
    "    y_D = p_D[1]\n",
    "    x_R = p_R[0]\n",
    "    y_R = p_R[1]\n",
    "    \n",
    "    a = sqrt(x_D**2 + y_D**2)\n",
    "    c = (a**2 - l_1**2 - l_2**2)/2*l_1\n",
    "    epsilon = -1 # elbow up\n",
    "    betha_1 =atan2(z_D, x_D) - atan2(b, (l_1 + c))\n",
    "    betha_2 = atan2(b, c)\n",
    "    alpha = atan2(y_R, x_R)\n",
    "    print(\"alpha \" + str(alpha))\n",
    "    print(\"betha_1 \" + str(betha_1))\n",
    "    print(\"betha_2 \" + str(betha_2))\n",
    "    return alpha, betha_1, betha_2"
   ]
  },
  {
   "cell_type": "code",
   "execution_count": 120,
   "metadata": {},
   "outputs": [
    {
     "name": "stdout",
     "output_type": "stream",
     "text": [
      "alpha 0.5294995915107659\n",
      "betha_1 1.2470091805894987\n",
      "betha_2 -1.3137436316137807\n"
     ]
    }
   ],
   "source": [
    "b_alpha, b_betha_1, b_betha_2 = backward_kinematic(p_A2)\n"
   ]
  },
  {
   "cell_type": "code",
   "execution_count": 121,
   "metadata": {},
   "outputs": [
    {
     "name": "stdout",
     "output_type": "stream",
     "text": [
      "0.5294995915107659 30.338091847467997\n",
      "1.2470091805894987 71.44836306184537\n",
      "-1.3137436316137807 -75.27196545365923\n"
     ]
    },
    {
     "data": {
      "text/plain": [
       "array([0.76786464, 0.33233995, 0.64067619, 1.        ])"
      ]
     },
     "execution_count": 121,
     "metadata": {},
     "output_type": "execute_result"
    }
   ],
   "source": [
    "forward_kinematic(b_alpha, b_betha_1, b_betha_2)"
   ]
  },
  {
   "cell_type": "code",
   "execution_count": null,
   "metadata": {},
   "outputs": [],
   "source": []
  }
 ],
 "metadata": {
  "kernelspec": {
   "display_name": "Python 3",
   "language": "python",
   "name": "python3"
  },
  "language_info": {
   "codemirror_mode": {
    "name": "ipython",
    "version": 3
   },
   "file_extension": ".py",
   "mimetype": "text/x-python",
   "name": "python",
   "nbconvert_exporter": "python",
   "pygments_lexer": "ipython3",
   "version": "3.7.4"
  },
  "toc": {
   "base_numbering": 1,
   "nav_menu": {},
   "number_sections": true,
   "sideBar": true,
   "skip_h1_title": false,
   "title_cell": "Table of Contents",
   "title_sidebar": "Contents",
   "toc_cell": false,
   "toc_position": {},
   "toc_section_display": true,
   "toc_window_display": false
  },
  "varInspector": {
   "cols": {
    "lenName": 16,
    "lenType": 16,
    "lenVar": 40
   },
   "kernels_config": {
    "python": {
     "delete_cmd_postfix": "",
     "delete_cmd_prefix": "del ",
     "library": "var_list.py",
     "varRefreshCmd": "print(var_dic_list())"
    },
    "r": {
     "delete_cmd_postfix": ") ",
     "delete_cmd_prefix": "rm(",
     "library": "var_list.r",
     "varRefreshCmd": "cat(var_dic_list()) "
    }
   },
   "types_to_exclude": [
    "module",
    "function",
    "builtin_function_or_method",
    "instance",
    "_Feature"
   ],
   "window_display": false
  }
 },
 "nbformat": 4,
 "nbformat_minor": 4
}
